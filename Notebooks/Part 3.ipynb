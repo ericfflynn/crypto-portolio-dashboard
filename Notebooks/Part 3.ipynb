{
 "cells": [
  {
   "attachments": {},
   "cell_type": "markdown",
   "metadata": {},
   "source": [
    "# CryptoCurrency Portfolio Tracker in Python\n",
    "## Part 3: Creating a Full-Fledged Application"
   ]
  },
  {
   "cell_type": "code",
   "execution_count": 16,
   "metadata": {},
   "outputs": [],
   "source": [
    "import pandas as pd\n",
    "import sqlite3\n",
    "import os\n",
    "\n",
    "def get_connection():\n",
    "    conn = sqlite3.connect('../Application/crypto_portfolio.db')\n",
    "    return conn"
   ]
  },
  {
   "cell_type": "code",
   "execution_count": null,
   "metadata": {},
   "outputs": [],
   "source": [
    "conn = get_connection()\n",
    "cursor = conn.cursor()\n",
    "cursor.execute(f'''\n",
    "CREATE TABLE IF NOT EXISTS prices (\n",
    "    symbol TEXT,\n",
    "    price REAL,\n",
    "    volume_24h REAL,\n",
    "    volume_change_24h REAL,\n",
    "    percent_change_1h REAL,\n",
    "    percent_change_24h REAL,\n",
    "    percent_change_7d REAL,\n",
    "    percent_change_30d REAL,\n",
    "    percent_change_60d REAL,\n",
    "    percent_change_90d REAL,\n",
    "    market_cap REAL,\n",
    "    market_cap_dominance REAL,\n",
    "    fully_diluted_market_cap REAL,\n",
    "    tvl REAL,\n",
    "    last_updated TEXT\n",
    ")\n",
    "''')\n",
    "conn.commit()\n",
    "conn.close()"
   ]
  },
  {
   "cell_type": "code",
   "execution_count": 5,
   "metadata": {},
   "outputs": [
    {
     "data": {
      "text/html": [
       "<div>\n",
       "<style scoped>\n",
       "    .dataframe tbody tr th:only-of-type {\n",
       "        vertical-align: middle;\n",
       "    }\n",
       "\n",
       "    .dataframe tbody tr th {\n",
       "        vertical-align: top;\n",
       "    }\n",
       "\n",
       "    .dataframe thead th {\n",
       "        text-align: right;\n",
       "    }\n",
       "</style>\n",
       "<table border=\"1\" class=\"dataframe\">\n",
       "  <thead>\n",
       "    <tr style=\"text-align: right;\">\n",
       "      <th></th>\n",
       "      <th>symbol</th>\n",
       "      <th>price</th>\n",
       "      <th>volume_24h</th>\n",
       "      <th>volume_change_24h</th>\n",
       "      <th>percent_change_1h</th>\n",
       "      <th>percent_change_24h</th>\n",
       "      <th>percent_change_7d</th>\n",
       "      <th>percent_change_30d</th>\n",
       "      <th>percent_change_60d</th>\n",
       "      <th>percent_change_90d</th>\n",
       "      <th>market_cap</th>\n",
       "      <th>market_cap_dominance</th>\n",
       "      <th>fully_diluted_market_cap</th>\n",
       "      <th>tvl</th>\n",
       "      <th>last_updated</th>\n",
       "    </tr>\n",
       "  </thead>\n",
       "  <tbody>\n",
       "  </tbody>\n",
       "</table>\n",
       "</div>"
      ],
      "text/plain": [
       "Empty DataFrame\n",
       "Columns: [symbol, price, volume_24h, volume_change_24h, percent_change_1h, percent_change_24h, percent_change_7d, percent_change_30d, percent_change_60d, percent_change_90d, market_cap, market_cap_dominance, fully_diluted_market_cap, tvl, last_updated]\n",
       "Index: []"
      ]
     },
     "metadata": {},
     "output_type": "display_data"
    }
   ],
   "source": [
    "conn = get_connection()\n",
    "prices = pd.read_sql(\"SELECT * FROM prices;\",con=conn)\n",
    "display(prices)\n",
    "conn.close()"
   ]
  },
  {
   "attachments": {},
   "cell_type": "markdown",
   "metadata": {},
   "source": [
    "### Get Crypto Prices from API"
   ]
  },
  {
   "cell_type": "code",
   "execution_count": 6,
   "metadata": {},
   "outputs": [],
   "source": [
    "import pandas as pd\n",
    "import sqlite3\n",
    "import os\n",
    "api_key = os.environ.get('CMC_API_KEY')\n",
    "\n",
    "\n",
    "def get_response_multiple(symbols):\n",
    "    from requests import Session\n",
    "    import json\n",
    "    url = 'https://pro-api.coinmarketcap.com/v2/cryptocurrency/quotes/latest'\n",
    "    headers = {\n",
    "        'Accepts': 'application/json',\n",
    "        'X-CMC_PRO_API_KEY': api_key,\n",
    "    }\n",
    "    session = Session()\n",
    "    session.headers.update(headers)\n",
    "    parameters = {\n",
    "        'symbol': ','.join(symbols)\n",
    "    }\n",
    "    response = session.get(url, params=parameters)\n",
    "    return json.loads(response.text)\n",
    "\n",
    "\n",
    "\n",
    "def clean_response_multiple(symbols):\n",
    "    data = get_response_multiple(symbols)\n",
    "    df = pd.DataFrame(\n",
    "        [{'symbol': symbol, **data['data'][symbol][0]['quote']['USD']} for symbol in symbols]\n",
    "    )\n",
    "    return df"
   ]
  },
  {
   "cell_type": "code",
   "execution_count": 7,
   "metadata": {},
   "outputs": [],
   "source": [
    "df = clean_response_multiple(['BTC','ETH'])"
   ]
  },
  {
   "cell_type": "code",
   "execution_count": 8,
   "metadata": {},
   "outputs": [
    {
     "data": {
      "text/html": [
       "<div>\n",
       "<style scoped>\n",
       "    .dataframe tbody tr th:only-of-type {\n",
       "        vertical-align: middle;\n",
       "    }\n",
       "\n",
       "    .dataframe tbody tr th {\n",
       "        vertical-align: top;\n",
       "    }\n",
       "\n",
       "    .dataframe thead th {\n",
       "        text-align: right;\n",
       "    }\n",
       "</style>\n",
       "<table border=\"1\" class=\"dataframe\">\n",
       "  <thead>\n",
       "    <tr style=\"text-align: right;\">\n",
       "      <th></th>\n",
       "      <th>symbol</th>\n",
       "      <th>price</th>\n",
       "      <th>volume_24h</th>\n",
       "      <th>volume_change_24h</th>\n",
       "      <th>percent_change_1h</th>\n",
       "      <th>percent_change_24h</th>\n",
       "      <th>percent_change_7d</th>\n",
       "      <th>percent_change_30d</th>\n",
       "      <th>percent_change_60d</th>\n",
       "      <th>percent_change_90d</th>\n",
       "      <th>market_cap</th>\n",
       "      <th>market_cap_dominance</th>\n",
       "      <th>fully_diluted_market_cap</th>\n",
       "      <th>tvl</th>\n",
       "      <th>last_updated</th>\n",
       "    </tr>\n",
       "  </thead>\n",
       "  <tbody>\n",
       "    <tr>\n",
       "      <th>0</th>\n",
       "      <td>BTC</td>\n",
       "      <td>67715.421223</td>\n",
       "      <td>2.226929e+10</td>\n",
       "      <td>-17.3671</td>\n",
       "      <td>0.139538</td>\n",
       "      <td>-1.384677</td>\n",
       "      <td>-2.013076</td>\n",
       "      <td>15.496249</td>\n",
       "      <td>3.757425</td>\n",
       "      <td>8.789458</td>\n",
       "      <td>1.334425e+12</td>\n",
       "      <td>52.7119</td>\n",
       "      <td>1.422024e+12</td>\n",
       "      <td>None</td>\n",
       "      <td>2024-06-01T12:57:00.000Z</td>\n",
       "    </tr>\n",
       "    <tr>\n",
       "      <th>1</th>\n",
       "      <td>ETH</td>\n",
       "      <td>3795.867127</td>\n",
       "      <td>1.289180e+10</td>\n",
       "      <td>-10.1754</td>\n",
       "      <td>0.240584</td>\n",
       "      <td>-0.758731</td>\n",
       "      <td>1.573154</td>\n",
       "      <td>27.273663</td>\n",
       "      <td>15.042442</td>\n",
       "      <td>10.864338</td>\n",
       "      <td>4.560434e+11</td>\n",
       "      <td>18.0144</td>\n",
       "      <td>4.560434e+11</td>\n",
       "      <td>None</td>\n",
       "      <td>2024-06-01T12:58:00.000Z</td>\n",
       "    </tr>\n",
       "  </tbody>\n",
       "</table>\n",
       "</div>"
      ],
      "text/plain": [
       "  symbol         price    volume_24h  volume_change_24h  percent_change_1h  \\\n",
       "0    BTC  67715.421223  2.226929e+10           -17.3671           0.139538   \n",
       "1    ETH   3795.867127  1.289180e+10           -10.1754           0.240584   \n",
       "\n",
       "   percent_change_24h  percent_change_7d  percent_change_30d  \\\n",
       "0           -1.384677          -2.013076           15.496249   \n",
       "1           -0.758731           1.573154           27.273663   \n",
       "\n",
       "   percent_change_60d  percent_change_90d    market_cap  market_cap_dominance  \\\n",
       "0            3.757425            8.789458  1.334425e+12               52.7119   \n",
       "1           15.042442           10.864338  4.560434e+11               18.0144   \n",
       "\n",
       "   fully_diluted_market_cap   tvl              last_updated  \n",
       "0              1.422024e+12  None  2024-06-01T12:57:00.000Z  \n",
       "1              4.560434e+11  None  2024-06-01T12:58:00.000Z  "
      ]
     },
     "execution_count": 8,
     "metadata": {},
     "output_type": "execute_result"
    }
   ],
   "source": [
    "df"
   ]
  },
  {
   "cell_type": "code",
   "execution_count": 9,
   "metadata": {},
   "outputs": [
    {
     "name": "stdout",
     "output_type": "stream",
     "text": [
      "<class 'str'>\n",
      "<class 'numpy.float64'>\n",
      "<class 'numpy.float64'>\n",
      "<class 'numpy.float64'>\n",
      "<class 'numpy.float64'>\n",
      "<class 'numpy.float64'>\n",
      "<class 'numpy.float64'>\n",
      "<class 'numpy.float64'>\n",
      "<class 'numpy.float64'>\n",
      "<class 'numpy.float64'>\n",
      "<class 'numpy.float64'>\n",
      "<class 'numpy.float64'>\n",
      "<class 'numpy.float64'>\n",
      "<class 'NoneType'>\n",
      "<class 'str'>\n"
     ]
    }
   ],
   "source": [
    "for i in df.columns:\n",
    "    print(type(df[i].iloc[0]))"
   ]
  },
  {
   "cell_type": "code",
   "execution_count": 10,
   "metadata": {},
   "outputs": [],
   "source": [
    "conn = get_connection()\n",
    "cursor = conn.cursor()\n",
    "for _, row in df.iterrows():\n",
    "        cursor.execute(f'''\n",
    "        insert into prices (symbol, price, volume_24h, volume_change_24h, percent_change_1h, percent_change_24h, \n",
    "                                percent_change_7d, percent_change_30d, percent_change_60d, percent_change_90d, \n",
    "                                market_cap, market_cap_dominance, fully_diluted_market_cap, tvl, last_updated)\n",
    "        VALUES (?, ?, ?, ?, ?, ?, ?, ?, ?, ?, ?, ?, ?, ?, ?)\n",
    "        ''', (row['symbol'], row['price'], row['volume_24h'], row['volume_change_24h'], row['percent_change_1h'],\n",
    "            row['percent_change_24h'], row['percent_change_7d'], row['percent_change_30d'],\n",
    "            row['percent_change_60d'], row['percent_change_90d'], row['market_cap'],\n",
    "            row['market_cap_dominance'], row['fully_diluted_market_cap'], row['tvl'], row['last_updated']))\n",
    "conn.commit()  \n",
    "conn.close()"
   ]
  },
  {
   "cell_type": "code",
   "execution_count": 11,
   "metadata": {},
   "outputs": [
    {
     "data": {
      "text/html": [
       "<div>\n",
       "<style scoped>\n",
       "    .dataframe tbody tr th:only-of-type {\n",
       "        vertical-align: middle;\n",
       "    }\n",
       "\n",
       "    .dataframe tbody tr th {\n",
       "        vertical-align: top;\n",
       "    }\n",
       "\n",
       "    .dataframe thead th {\n",
       "        text-align: right;\n",
       "    }\n",
       "</style>\n",
       "<table border=\"1\" class=\"dataframe\">\n",
       "  <thead>\n",
       "    <tr style=\"text-align: right;\">\n",
       "      <th></th>\n",
       "      <th>symbol</th>\n",
       "      <th>price</th>\n",
       "      <th>volume_24h</th>\n",
       "      <th>volume_change_24h</th>\n",
       "      <th>percent_change_1h</th>\n",
       "      <th>percent_change_24h</th>\n",
       "      <th>percent_change_7d</th>\n",
       "      <th>percent_change_30d</th>\n",
       "      <th>percent_change_60d</th>\n",
       "      <th>percent_change_90d</th>\n",
       "      <th>market_cap</th>\n",
       "      <th>market_cap_dominance</th>\n",
       "      <th>fully_diluted_market_cap</th>\n",
       "      <th>tvl</th>\n",
       "      <th>last_updated</th>\n",
       "    </tr>\n",
       "  </thead>\n",
       "  <tbody>\n",
       "    <tr>\n",
       "      <th>0</th>\n",
       "      <td>BTC</td>\n",
       "      <td>67715.421223</td>\n",
       "      <td>2.226929e+10</td>\n",
       "      <td>-17.3671</td>\n",
       "      <td>0.139538</td>\n",
       "      <td>-1.384677</td>\n",
       "      <td>-2.013076</td>\n",
       "      <td>15.496249</td>\n",
       "      <td>3.757425</td>\n",
       "      <td>8.789458</td>\n",
       "      <td>1.334425e+12</td>\n",
       "      <td>52.7119</td>\n",
       "      <td>1.422024e+12</td>\n",
       "      <td>None</td>\n",
       "      <td>2024-06-01T12:57:00.000Z</td>\n",
       "    </tr>\n",
       "    <tr>\n",
       "      <th>1</th>\n",
       "      <td>ETH</td>\n",
       "      <td>3795.867127</td>\n",
       "      <td>1.289180e+10</td>\n",
       "      <td>-10.1754</td>\n",
       "      <td>0.240584</td>\n",
       "      <td>-0.758731</td>\n",
       "      <td>1.573154</td>\n",
       "      <td>27.273663</td>\n",
       "      <td>15.042442</td>\n",
       "      <td>10.864338</td>\n",
       "      <td>4.560434e+11</td>\n",
       "      <td>18.0144</td>\n",
       "      <td>4.560434e+11</td>\n",
       "      <td>None</td>\n",
       "      <td>2024-06-01T12:58:00.000Z</td>\n",
       "    </tr>\n",
       "  </tbody>\n",
       "</table>\n",
       "</div>"
      ],
      "text/plain": [
       "  symbol         price    volume_24h  volume_change_24h  percent_change_1h  \\\n",
       "0    BTC  67715.421223  2.226929e+10           -17.3671           0.139538   \n",
       "1    ETH   3795.867127  1.289180e+10           -10.1754           0.240584   \n",
       "\n",
       "   percent_change_24h  percent_change_7d  percent_change_30d  \\\n",
       "0           -1.384677          -2.013076           15.496249   \n",
       "1           -0.758731           1.573154           27.273663   \n",
       "\n",
       "   percent_change_60d  percent_change_90d    market_cap  market_cap_dominance  \\\n",
       "0            3.757425            8.789458  1.334425e+12               52.7119   \n",
       "1           15.042442           10.864338  4.560434e+11               18.0144   \n",
       "\n",
       "   fully_diluted_market_cap   tvl              last_updated  \n",
       "0              1.422024e+12  None  2024-06-01T12:57:00.000Z  \n",
       "1              4.560434e+11  None  2024-06-01T12:58:00.000Z  "
      ]
     },
     "metadata": {},
     "output_type": "display_data"
    }
   ],
   "source": [
    "conn = get_connection()\n",
    "cursor = conn.cursor()\n",
    "prices = pd.read_sql(\"select * from prices\", con=conn)   \n",
    "conn.close()\n",
    "display(prices)"
   ]
  },
  {
   "cell_type": "code",
   "execution_count": 3,
   "metadata": {},
   "outputs": [],
   "source": [
    "def exec_sql(query):\n",
    "    conn = get_connection()\n",
    "    cursor = conn.cursor()\n",
    "    cursor.execute(query)\n",
    "    conn.commit()\n",
    "    conn.close()"
   ]
  },
  {
   "cell_type": "code",
   "execution_count": 4,
   "metadata": {},
   "outputs": [],
   "source": [
    "# exec_sql('delete from prices')"
   ]
  },
  {
   "cell_type": "code",
   "execution_count": 26,
   "metadata": {},
   "outputs": [],
   "source": [
    "# conn = get_connection()\n",
    "# df.to_sql(prices, con=conn, if_exists='replace', index=False)\n",
    "# conn.close()"
   ]
  },
  {
   "cell_type": "code",
   "execution_count": 12,
   "metadata": {},
   "outputs": [],
   "source": [
    "def update_prices():\n",
    "    conn = get_connection()\n",
    "    cursor = conn.cursor()\n",
    "    cursor.execute('delete from prices')\n",
    "    results = cursor.execute(\"select distinct symbol from portfolio\").fetchall()\n",
    "    coins = [row[0] for row in results]\n",
    "    df = clean_response_multiple(coins)\n",
    "    for _, row in df.iterrows():\n",
    "        cursor.execute(f'''\n",
    "        insert into prices (symbol, price, volume_24h, volume_change_24h, percent_change_1h, percent_change_24h, \n",
    "                                percent_change_7d, percent_change_30d, percent_change_60d, percent_change_90d, \n",
    "                                market_cap, market_cap_dominance, fully_diluted_market_cap, tvl, last_updated)\n",
    "        VALUES (?, ?, ?, ?, ?, ?, ?, ?, ?, ?, ?, ?, ?, ?, ?)\n",
    "        ''', (row['symbol'], row['price'], row['volume_24h'], row['volume_change_24h'], row['percent_change_1h'],\n",
    "            row['percent_change_24h'], row['percent_change_7d'], row['percent_change_30d'],\n",
    "            row['percent_change_60d'], row['percent_change_90d'], row['market_cap'],\n",
    "            row['market_cap_dominance'], row['fully_diluted_market_cap'], row['tvl'], row['last_updated']))\n",
    "    conn.commit()\n",
    "    conn.close()\n",
    "update_prices()"
   ]
  },
  {
   "cell_type": "code",
   "execution_count": 13,
   "metadata": {},
   "outputs": [
    {
     "data": {
      "text/html": [
       "<div>\n",
       "<style scoped>\n",
       "    .dataframe tbody tr th:only-of-type {\n",
       "        vertical-align: middle;\n",
       "    }\n",
       "\n",
       "    .dataframe tbody tr th {\n",
       "        vertical-align: top;\n",
       "    }\n",
       "\n",
       "    .dataframe thead th {\n",
       "        text-align: right;\n",
       "    }\n",
       "</style>\n",
       "<table border=\"1\" class=\"dataframe\">\n",
       "  <thead>\n",
       "    <tr style=\"text-align: right;\">\n",
       "      <th></th>\n",
       "      <th>amount</th>\n",
       "      <th>cost</th>\n",
       "      <th>symbol</th>\n",
       "      <th>price</th>\n",
       "      <th>volume_24h</th>\n",
       "      <th>volume_change_24h</th>\n",
       "      <th>percent_change_1h</th>\n",
       "      <th>percent_change_24h</th>\n",
       "      <th>percent_change_7d</th>\n",
       "      <th>percent_change_30d</th>\n",
       "      <th>percent_change_60d</th>\n",
       "      <th>percent_change_90d</th>\n",
       "      <th>market_cap</th>\n",
       "      <th>market_cap_dominance</th>\n",
       "      <th>fully_diluted_market_cap</th>\n",
       "      <th>tvl</th>\n",
       "      <th>last_updated</th>\n",
       "    </tr>\n",
       "  </thead>\n",
       "  <tbody>\n",
       "    <tr>\n",
       "      <th>0</th>\n",
       "      <td>1.0</td>\n",
       "      <td>45000.0</td>\n",
       "      <td>BTC</td>\n",
       "      <td>67683.368855</td>\n",
       "      <td>2.224130e+10</td>\n",
       "      <td>-17.4554</td>\n",
       "      <td>0.105889</td>\n",
       "      <td>-1.343480</td>\n",
       "      <td>-2.073856</td>\n",
       "      <td>15.606000</td>\n",
       "      <td>3.598486</td>\n",
       "      <td>8.801129</td>\n",
       "      <td>1.333794e+12</td>\n",
       "      <td>52.6896</td>\n",
       "      <td>1.421351e+12</td>\n",
       "      <td>None</td>\n",
       "      <td>2024-06-01T13:00:00.000Z</td>\n",
       "    </tr>\n",
       "    <tr>\n",
       "      <th>1</th>\n",
       "      <td>5.0</td>\n",
       "      <td>10000.0</td>\n",
       "      <td>ETH</td>\n",
       "      <td>3794.443815</td>\n",
       "      <td>1.287375e+10</td>\n",
       "      <td>-10.3927</td>\n",
       "      <td>0.219079</td>\n",
       "      <td>-0.731952</td>\n",
       "      <td>1.462515</td>\n",
       "      <td>27.257003</td>\n",
       "      <td>15.133826</td>\n",
       "      <td>10.830890</td>\n",
       "      <td>4.558724e+11</td>\n",
       "      <td>18.0077</td>\n",
       "      <td>4.558724e+11</td>\n",
       "      <td>None</td>\n",
       "      <td>2024-06-01T12:59:00.000Z</td>\n",
       "    </tr>\n",
       "  </tbody>\n",
       "</table>\n",
       "</div>"
      ],
      "text/plain": [
       "   amount     cost symbol         price    volume_24h  volume_change_24h  \\\n",
       "0     1.0  45000.0    BTC  67683.368855  2.224130e+10           -17.4554   \n",
       "1     5.0  10000.0    ETH   3794.443815  1.287375e+10           -10.3927   \n",
       "\n",
       "   percent_change_1h  percent_change_24h  percent_change_7d  \\\n",
       "0           0.105889           -1.343480          -2.073856   \n",
       "1           0.219079           -0.731952           1.462515   \n",
       "\n",
       "   percent_change_30d  percent_change_60d  percent_change_90d    market_cap  \\\n",
       "0           15.606000            3.598486            8.801129  1.333794e+12   \n",
       "1           27.257003           15.133826           10.830890  4.558724e+11   \n",
       "\n",
       "   market_cap_dominance  fully_diluted_market_cap   tvl  \\\n",
       "0               52.6896              1.421351e+12  None   \n",
       "1               18.0077              4.558724e+11  None   \n",
       "\n",
       "               last_updated  \n",
       "0  2024-06-01T13:00:00.000Z  \n",
       "1  2024-06-01T12:59:00.000Z  "
      ]
     },
     "execution_count": 13,
     "metadata": {},
     "output_type": "execute_result"
    }
   ],
   "source": [
    "conn = get_connection()\n",
    "dfjoin = pd.read_sql('select portfolio.amount, portfolio.cost, prices.* from portfolio left join prices on portfolio.symbol = prices.symbol', conn)\n",
    "conn.close()\n",
    "dfjoin"
   ]
  },
  {
   "cell_type": "markdown",
   "metadata": {},
   "source": [
    "### PostProcessing the data"
   ]
  },
  {
   "cell_type": "code",
   "execution_count": 15,
   "metadata": {},
   "outputs": [
    {
     "data": {
      "text/plain": [
       "Index(['amount', 'cost', 'symbol', 'price', 'volume_24h', 'volume_change_24h',\n",
       "       'percent_change_1h', 'percent_change_24h', 'percent_change_7d',\n",
       "       'percent_change_30d', 'percent_change_60d', 'percent_change_90d',\n",
       "       'market_cap', 'market_cap_dominance', 'fully_diluted_market_cap', 'tvl',\n",
       "       'last_updated'],\n",
       "      dtype='object')"
      ]
     },
     "execution_count": 15,
     "metadata": {},
     "output_type": "execute_result"
    }
   ],
   "source": [
    "dfjoin.columns"
   ]
  },
  {
   "cell_type": "code",
   "execution_count": null,
   "metadata": {},
   "outputs": [],
   "source": []
  },
  {
   "attachments": {},
   "cell_type": "markdown",
   "metadata": {},
   "source": [
    "### All Together"
   ]
  },
  {
   "cell_type": "code",
   "execution_count": null,
   "metadata": {},
   "outputs": [],
   "source": [
    "import pandas as pd\n",
    "import sqlite3\n",
    "import os\n",
    "api_key = os.environ.get('CMC_API_KEY')\n",
    "\n",
    "def get_connection():\n",
    "    conn = sqlite3.connect('crypto_portfolio.db')\n",
    "    return conn\n",
    "\n",
    "def get_response_multiple(symbols):\n",
    "    from requests import Session\n",
    "    import json\n",
    "    url = 'https://pro-api.coinmarketcap.com/v2/cryptocurrency/quotes/latest'\n",
    "    headers = {\n",
    "        'Accepts': 'application/json',\n",
    "        'X-CMC_PRO_API_KEY': api_key,\n",
    "    }\n",
    "    session = Session()\n",
    "    session.headers.update(headers)\n",
    "    parameters = {\n",
    "        'symbol': ','.join(symbols)\n",
    "    }\n",
    "    response = session.get(url, params=parameters)\n",
    "    return json.loads(response.text)\n",
    "\n",
    "def clean_response_multiple(symbols):\n",
    "    data = get_response_multiple(symbols)\n",
    "    df = pd.DataFrame(\n",
    "        [{'symbol': symbol, **data['data'][symbol][0]['quote']['USD']} for symbol in symbols]\n",
    "    )\n",
    "    return df\n",
    "\n",
    "def update_prices():\n",
    "    conn = get_connection()\n",
    "    cursor = conn.cursor()\n",
    "    cursor.execute('delete from prices')\n",
    "    results = cursor.execute(\"select distinct symbol from portfolio\").fetchall()\n",
    "    coins = [row[0] for row in results]\n",
    "    df = clean_response_multiple(coins)\n",
    "    for _, row in df.iterrows():\n",
    "        cursor.execute(f'''\n",
    "        insert into prices (symbol, price, volume_24h, volume_change_24h, percent_change_1h, percent_change_24h, \n",
    "                                percent_change_7d, percent_change_30d, percent_change_60d, percent_change_90d, \n",
    "                                market_cap, market_cap_dominance, fully_diluted_market_cap, tvl, last_updated)\n",
    "        VALUES (?, ?, ?, ?, ?, ?, ?, ?, ?, ?, ?, ?, ?, ?, ?)\n",
    "        ''', (row['symbol'], row['price'], row['volume_24h'], row['volume_change_24h'], row['percent_change_1h'],\n",
    "            row['percent_change_24h'], row['percent_change_7d'], row['percent_change_30d'],\n",
    "            row['percent_change_60d'], row['percent_change_90d'], row['market_cap'],\n",
    "            row['market_cap_dominance'], row['fully_diluted_market_cap'], row['tvl'], row['last_updated']))\n",
    "    conn.commit()\n",
    "    conn.close()\n",
    "update_prices()"
   ]
  },
  {
   "attachments": {},
   "cell_type": "markdown",
   "metadata": {},
   "source": [
    "### Data Visualization"
   ]
  },
  {
   "cell_type": "code",
   "execution_count": 27,
   "metadata": {},
   "outputs": [],
   "source": [
    "conn = get_connection()\n",
    "raw_df = pd.read_sql('select portfolio.amount, portfolio.cost, prices.* from portfolio left join prices on portfolio.symbol = prices.symbol', conn)"
   ]
  },
  {
   "cell_type": "code",
   "execution_count": 36,
   "metadata": {},
   "outputs": [
    {
     "name": "stdout",
     "output_type": "stream",
     "text": [
      "2024-06-02 02:49 PM\n"
     ]
    }
   ],
   "source": [
    "from datetime import datetime\n",
    "last_update = datetime.strptime(min(raw_df['last_updated']), '%Y-%m-%dT%H:%M:%S.%fZ').strftime('%Y-%m-%d %I:%M %p')\n",
    "\n",
    "# datetime_obj = datetime.strptime(datetime_str, '%Y-%m-%dT%H:%M:%S.%fZ')\n",
    "\n",
    "\n",
    "# formatted_datetime = last_update.strftime('%Y-%m-%d %I:%M %p')\n",
    "\n",
    "print(last_update)"
   ]
  },
  {
   "cell_type": "code",
   "execution_count": 41,
   "metadata": {},
   "outputs": [],
   "source": [
    "coins = raw_df[['symbol','amount','cost','price','percent_change_24h']].copy()\n",
    "coins['avg_price'] = coins['cost'] / coins['amount']\n",
    "coins['value'] = coins['amount']*coins['price']\n",
    "coins['net'] = coins['value'] - coins['cost']\n",
    "coins['%'] = (coins['net'] / coins['cost'])*100\n",
    "coins['X'] = coins['value'] / coins['cost']\n",
    "coins['24h_value'] = coins['value']/((coins['percent_change_24h']/100)+1)\n",
    "coins['24h_net'] = coins['value'] - coins['24h_value']"
   ]
  },
  {
   "cell_type": "code",
   "execution_count": 30,
   "metadata": {},
   "outputs": [
    {
     "data": {
      "text/plain": [
       "Index(['amount', 'cost', 'symbol', 'price', 'volume_24h', 'volume_change_24h',\n",
       "       'percent_change_1h', 'percent_change_24h', 'percent_change_7d',\n",
       "       'percent_change_30d', 'percent_change_60d', 'percent_change_90d',\n",
       "       'market_cap', 'market_cap_dominance', 'fully_diluted_market_cap', 'tvl',\n",
       "       'last_updated', 'avg_price', 'value', 'net', '%', 'X'],\n",
       "      dtype='object')"
      ]
     },
     "execution_count": 30,
     "metadata": {},
     "output_type": "execute_result"
    }
   ],
   "source": [
    "coins.columns"
   ]
  }
 ],
 "metadata": {
  "kernelspec": {
   "display_name": "crypto-portfolio",
   "language": "python",
   "name": "python3"
  },
  "language_info": {
   "codemirror_mode": {
    "name": "ipython",
    "version": 3
   },
   "file_extension": ".py",
   "mimetype": "text/x-python",
   "name": "python",
   "nbconvert_exporter": "python",
   "pygments_lexer": "ipython3",
   "version": "3.12.3"
  },
  "orig_nbformat": 4,
  "vscode": {
   "interpreter": {
    "hash": "39ffee99aa20fa9911c92f82883a0ba504cbe54d1ed63b7765c53fea378c4b88"
   }
  }
 },
 "nbformat": 4,
 "nbformat_minor": 2
}
