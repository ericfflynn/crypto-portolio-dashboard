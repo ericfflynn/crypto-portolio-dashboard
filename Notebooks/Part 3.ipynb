{
 "cells": [
  {
   "cell_type": "code",
   "execution_count": null,
   "metadata": {},
   "outputs": [],
   "source": [
    "import pandas as pd\n",
    "import sqlite3\n",
    "import os\n",
    "api_key = os.environ.get('CMC_API_KEY')\n",
    "\n",
    "def get_connection():\n",
    "    conn = sqlite3.connect('crypto_portfolio.db')\n",
    "    return conn\n",
    "\n",
    "def get_response_multiple(symbols):\n",
    "    from requests import Session\n",
    "    import json\n",
    "    url = 'https://pro-api.coinmarketcap.com/v2/cryptocurrency/quotes/latest'\n",
    "    headers = {\n",
    "        'Accepts': 'application/json',\n",
    "        'X-CMC_PRO_API_KEY': api_key,\n",
    "    }\n",
    "    session = Session()\n",
    "    session.headers.update(headers)\n",
    "    parameters = {\n",
    "        'symbol': ','.join(symbols)\n",
    "    }\n",
    "    response = session.get(url, params=parameters)\n",
    "    return json.loads(response.text)\n",
    "\n",
    "def clean_response_multiple(symbols):\n",
    "    data = get_response_multiple(symbols)\n",
    "    df = pd.DataFrame(\n",
    "        [{'symbol': symbol, **data['data'][symbol][0]['quote']['USD']} for symbol in symbols]\n",
    "    )\n",
    "    return df\n",
    "\n",
    "def update_prices():\n",
    "    conn = get_connection()\n",
    "    cursor = conn.cursor()\n",
    "    cursor.execute('delete from prices')\n",
    "    results = c.execute(\"select distinct symbol from portfolio\").fetchall()\n",
    "    coins = [row[0] for row in results]\n",
    "    df = clean_response_multiple(coins)\n",
    "    for _, row in df.iterrows():\n",
    "        cursor.execute(f'''\n",
    "        insert into prices (symbol, price, volume_24h, volume_change_24h, percent_change_1h, percent_change_24h, \n",
    "                                percent_change_7d, percent_change_30d, percent_change_60d, percent_change_90d, \n",
    "                                market_cap, market_cap_dominance, fully_diluted_market_cap, tvl, last_updated)\n",
    "        VALUES (?, ?, ?, ?, ?, ?, ?, ?, ?, ?, ?, ?, ?, ?, ?)\n",
    "        ''', (row['symbol'], row['price'], row['volume_24h'], row['volume_change_24h'], row['percent_change_1h'],\n",
    "            row['percent_change_24h'], row['percent_change_7d'], row['percent_change_30d'],\n",
    "            row['percent_change_60d'], row['percent_change_90d'], row['market_cap'],\n",
    "            row['market_cap_dominance'], row['fully_diluted_market_cap'], row['tvl'], row['last_updated']))\n",
    "    conn.commit()\n",
    "    conn.close()\n",
    "update_prices()"
   ]
  },
  {
   "cell_type": "code",
   "execution_count": null,
   "metadata": {},
   "outputs": [],
   "source": [
    "conn = get_connection()\n",
    "cursor = conn.cursor()\n",
    "\n",
    "\n",
    "cursor.execute(\"SELECT * FROM prices;\")\n",
    "\n",
    "# Fetch all results\n",
    "prices = cursor.fetchall()\n",
    "\n",
    "conn.close()\n",
    "prices"
   ]
  },
  {
   "cell_type": "code",
   "execution_count": null,
   "metadata": {},
   "outputs": [],
   "source": [
    "conn = get_connection()\n",
    "cursor = conn.cursor()\n",
    "cursor.execute(f'''\n",
    "CREATE TABLE prices (\n",
    "    symbol TEXT,\n",
    "    price REAL,\n",
    "    volume_24h REAL,\n",
    "    volume_change_24h REAL,\n",
    "    percent_change_1h REAL,\n",
    "    percent_change_24h REAL,\n",
    "    percent_change_7d REAL,\n",
    "    percent_change_30d REAL,\n",
    "    percent_change_60d REAL,\n",
    "    percent_change_90d REAL,\n",
    "    market_cap REAL,\n",
    "    market_cap_dominance REAL,\n",
    "    fully_diluted_market_cap REAL,\n",
    "    tvl REAL,\n",
    "    last_updated TEXT\n",
    ")\n",
    "''')\n",
    "conn.commit()\n",
    "conn.close()"
   ]
  },
  {
   "cell_type": "code",
   "execution_count": null,
   "metadata": {},
   "outputs": [],
   "source": [
    "conn = get_connection()\n",
    "dfjoin = pd.read_sql('select portfolio.amount, portfolio.cost, prices.* from portfolio left join prices on portfolio.symbol = prices.symbol', conn)\n",
    "conn.close()\n",
    "dfjoin"
   ]
  },
  {
   "cell_type": "code",
   "execution_count": null,
   "metadata": {},
   "outputs": [],
   "source": [
    "df = update_prices()"
   ]
  },
  {
   "cell_type": "code",
   "execution_count": null,
   "metadata": {},
   "outputs": [],
   "source": [
    "conn = get_connection()\n",
    "c = conn.cursor()\n",
    "\n",
    "\n",
    "for _, row in df.iterrows():\n",
    "    cursor.execute(f'''\n",
    "    insert into prices (price, volume_24h, volume_change_24h, percent_change_1h, percent_change_24h, \n",
    "                              percent_change_7d, percent_change_30d, percent_change_60d, percent_change_90d, \n",
    "                              market_cap, market_cap_dominance, fully_diluted_market_cap, tvl, last_updated)\n",
    "    VALUES (?, ?, ?, ?, ?, ?, ?, ?, ?, ?, ?, ?, ?, ?)\n",
    "    ''', (row['price'], row['volume_24h'], row['volume_change_24h'], row['percent_change_1h'],\n",
    "          row['percent_change_24h'], row['percent_change_7d'], row['percent_change_30d'],\n",
    "          row['percent_change_60d'], row['percent_change_90d'], row['market_cap'],\n",
    "          row['market_cap_dominance'], row['fully_diluted_market_cap'], row['tvl'], row['last_updated']))\n",
    "\n",
    "conn.commit()\n",
    "\n",
    "conn.close()"
   ]
  }
 ],
 "metadata": {
  "kernelspec": {
   "display_name": "crypto-portfolio",
   "language": "python",
   "name": "python3"
  },
  "language_info": {
   "name": "python",
   "version": "3.12.3 | packaged by Anaconda, Inc. | (main, May  6 2024, 14:43:12) [Clang 14.0.6 ]"
  },
  "orig_nbformat": 4,
  "vscode": {
   "interpreter": {
    "hash": "39ffee99aa20fa9911c92f82883a0ba504cbe54d1ed63b7765c53fea378c4b88"
   }
  }
 },
 "nbformat": 4,
 "nbformat_minor": 2
}
